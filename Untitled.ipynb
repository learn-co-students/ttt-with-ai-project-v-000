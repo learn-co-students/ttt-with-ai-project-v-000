{
 "cells": [
  {
   "cell_type": "code",
   "execution_count": 1,
   "metadata": {
    "collapsed": false
   },
   "outputs": [
    {
     "data": {
      "text/plain": [
       "true"
      ]
     },
     "execution_count": 1,
     "metadata": {},
     "output_type": "execute_result"
    }
   ],
   "source": [
    "require './lib/game'\n",
    "require './lib/player'\n",
    "require './lib/board'\n",
    "require './lib/players/human'\n",
    "require './lib/players/computer'"
   ]
  },
  {
   "cell_type": "code",
   "execution_count": 2,
   "metadata": {
    "collapsed": false
   },
   "outputs": [
    {
     "name": "stdout",
     "output_type": "stream",
     "text": [
      "Welcome to Tic Tac Toe!\n",
      "Player X, please make your move.\n",
      "   |   |   \n",
      "-----------\n",
      "   | X |   \n",
      "-----------\n",
      "   |   |   \n",
      "Player O, please make your move.\n",
      "5 - 0 -  \n",
      "hello prev turn4 has 1 opp token[[3, 4, 5], [1, 4, 7], [0, 4, 8], [2, 4, 6]] include prev turn[[3, 4, 5], [1, 4, 7], [0, 4, 8], [2, 4, 6]]\n",
      " O |   |   \n",
      "-----------\n",
      "   | X |   \n",
      "-----------\n",
      "   |   |   \n",
      "Player X, please make your move.\n",
      "5 - 0 -  \n",
      "1 - 1 -  \n",
      "hello prev turn4 has 1 opp token[[0, 4, 8]] include prev turn[[3, 4, 5], [1, 4, 7], [0, 4, 8], [2, 4, 6]]\n",
      " O |   |   \n",
      "-----------\n",
      " X | X |   \n",
      "-----------\n",
      "   |   |   \n",
      "Player O, please make your move.\n",
      " O |   |   \n",
      "-----------\n",
      " X | X | O \n",
      "-----------\n",
      "   |   |   \n",
      "Player X, please make your move.\n",
      "5 - 0 -  \n",
      "1 - 1 -  \n",
      "4 - 2 - *\n",
      "6 - 3 -  \n",
      "hello prev turn3 has 1 opp token[[3, 4, 5], [0, 3, 6]] include prev turn[[3, 4, 5], [0, 3, 6]]\n",
      " O |   |   \n",
      "-----------\n",
      " X | X | O \n",
      "-----------\n",
      "   | X |   \n",
      "Player O, please make your move.\n",
      " O | O |   \n",
      "-----------\n",
      " X | X | O \n",
      "-----------\n",
      "   | X |   \n",
      "Player X, please make your move.\n",
      " O | O | X \n",
      "-----------\n",
      " X | X | O \n",
      "-----------\n",
      "   | X |   \n",
      "Player O, please make your move.\n",
      " O | O | X \n",
      "-----------\n",
      " X | X | O \n",
      "-----------\n",
      " O | X |   \n",
      "Player X, please make your move.\n",
      "5 - 0 -  \n",
      "1 - 1 - *\n",
      "4 - 2 -  \n",
      "6 - 3 -  \n",
      "8 - 4 -  \n",
      "2 - 5 -  \n",
      "3 - 6 -  \n",
      "7 - 7 -  \n",
      "hello prev turn2 has 1 opp token[[0, 1, 2], [2, 5, 8], [2, 4, 6]] include prev turn[[0, 1, 2], [2, 5, 8], [2, 4, 6]]\n",
      " O | O | X \n",
      "-----------\n",
      " X | X | O \n",
      "-----------\n",
      " O | X | X \n",
      "Cats Game!\n"
     ]
    }
   ],
   "source": [
    "game = Game.new(player_1 = Player::Computer.new(\"X\"), player_2 = Player::Computer.new(\"O\"), board = Board.new)\n",
    "game.play"
   ]
  },
  {
   "cell_type": "code",
   "execution_count": null,
   "metadata": {
    "collapsed": true
   },
   "outputs": [],
   "source": []
  }
 ],
 "metadata": {
  "kernelspec": {
   "display_name": "Ruby 2.2.3",
   "language": "ruby",
   "name": "ruby"
  },
  "language_info": {
   "file_extension": ".rb",
   "mimetype": "application/x-ruby",
   "name": "ruby",
   "version": "2.2.3"
  }
 },
 "nbformat": 4,
 "nbformat_minor": 0
}
